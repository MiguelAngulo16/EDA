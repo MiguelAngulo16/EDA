{
 "cells": [
  {
   "cell_type": "markdown",
   "metadata": {},
   "source": [
    "<h1>Listas Circulares<h1>"
   ]
  },
  {
   "cell_type": "code",
   "execution_count": null,
   "metadata": {},
   "outputs": [],
   "source": [
    "class Nodo:\n",
    "    def __init__(self,dato):\n",
    "        self.dato = dato\n",
    "        self.siguiente = None\n",
    "\n",
    "class lista_circular:\n",
    "    def __init__(self):\n",
    "        self.cabeza = None\n",
    "        self.ultimo = None"
   ]
  },
  {
   "cell_type": "markdown",
   "metadata": {},
   "source": [
    "<h1>Listas dobles<h1>"
   ]
  },
  {
   "cell_type": "code",
   "execution_count": null,
   "metadata": {},
   "outputs": [],
   "source": [
    "class Nodo:\n",
    "    def __init__(self,dato):\n",
    "        self.dato = dato\n",
    "        self.siguiente = None\n",
    "        self.anterior = None"
   ]
  },
  {
   "cell_type": "markdown",
   "metadata": {},
   "source": [
    "<h1>Listas Circulares Dobles<h1>"
   ]
  },
  {
   "cell_type": "code",
   "execution_count": null,
   "metadata": {},
   "outputs": [],
   "source": [
    "class Nodo:\n",
    "    def __init__(self, dato):\n",
    "        self.dato = dato\n",
    "        self.siguiente = None\n",
    "        self.anterior = None\n",
    "\n",
    "class listaCircularDoble():\n",
    "    def __init__(self):\n",
    "        self.cabeza = None\n",
    "        self.ultimo = None"
   ]
  }
 ],
 "metadata": {
  "kernelspec": {
   "display_name": "Python 3",
   "language": "python",
   "name": "python3"
  },
  "language_info": {
   "name": "python",
   "version": "3.10.0"
  }
 },
 "nbformat": 4,
 "nbformat_minor": 2
}
